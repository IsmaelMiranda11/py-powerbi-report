{
 "cells": [
  {
   "cell_type": "markdown",
   "metadata": {},
   "source": [
    "## Coding Power BI Report Layout"
   ]
  },
  {
   "cell_type": "code",
   "execution_count": 1,
   "metadata": {},
   "outputs": [],
   "source": [
    "import os, sys\n",
    "sys.path.append(os.getcwd())"
   ]
  },
  {
   "cell_type": "code",
   "execution_count": 2,
   "metadata": {},
   "outputs": [
    {
     "data": {
      "text/plain": [
       "'0.1'"
      ]
     },
     "execution_count": 2,
     "metadata": {},
     "output_type": "execute_result"
    }
   ],
   "source": [
    "import pypbireport as ppr\n",
    "\n",
    "ppr.__version__ "
   ]
  },
  {
   "cell_type": "markdown",
   "metadata": {},
   "source": [
    "0. The first thing to do is to declarate a `PBIReport` class with desired PBIX file path"
   ]
  },
  {
   "cell_type": "code",
   "execution_count": 3,
   "metadata": {},
   "outputs": [
    {
     "data": {
      "text/plain": [
       "Sample Report: 2 pages, 6 visuals"
      ]
     },
     "execution_count": 3,
     "metadata": {},
     "output_type": "execute_result"
    }
   ],
   "source": [
    "# Instantiate a PBIReport object\n",
    "pbix_path = 'Sample Report.pbix'\n",
    "\n",
    "report = ppr.PBIReport(pbix_path=pbix_path)\n",
    "\n",
    "report"
   ]
  },
  {
   "cell_type": "markdown",
   "metadata": {},
   "source": [
    "1. Read PBI **report json** as a **python dictionary**"
   ]
  },
  {
   "cell_type": "code",
   "execution_count": 4,
   "metadata": {},
   "outputs": [
    {
     "name": "stdout",
     "output_type": "stream",
     "text": [
      "<class 'dict'>\n",
      "6\n",
      "dict_keys(['id', 'theme', 'resourcePackages', 'sections', 'config', 'layoutOptimization'])\n"
     ]
    }
   ],
   "source": [
    "# After reading a PBIX file, the layout is in a dict\n",
    "\n",
    "print(type(report.layout_pbi_dict))\n",
    "print(len(report.layout_pbi_dict))\n",
    "print(report.layout_pbi_dict.keys())"
   ]
  },
  {
   "cell_type": "code",
   "execution_count": 5,
   "metadata": {},
   "outputs": [
    {
     "data": {
      "text/plain": [
       "2"
      ]
     },
     "execution_count": 5,
     "metadata": {},
     "output_type": "execute_result"
    }
   ],
   "source": [
    "# Pages of report\n",
    "len(report.layout_pbi_dict.get('sections'))"
   ]
  },
  {
   "cell_type": "code",
   "execution_count": 6,
   "metadata": {},
   "outputs": [
    {
     "data": {
      "text/plain": [
       "'Cover'"
      ]
     },
     "execution_count": 6,
     "metadata": {},
     "output_type": "execute_result"
    }
   ],
   "source": [
    "# Get the name of first page in report\n",
    "report.layout_pbi_dict.get('sections')[0].get('displayName')"
   ]
  },
  {
   "cell_type": "markdown",
   "metadata": {},
   "source": [
    "2. **Resume** pages, visuals and bookmarks in report"
   ]
  },
  {
   "cell_type": "code",
   "execution_count": 7,
   "metadata": {},
   "outputs": [
    {
     "data": {
      "text/plain": [
       "{0: ['Cover', 'ReportSection'],\n",
       " 1: ['Sales Reseller', 'ReportSectione5a5d9f92de0fef7e45e']}"
      ]
     },
     "execution_count": 7,
     "metadata": {},
     "output_type": "execute_result"
    }
   ],
   "source": [
    "# Resume pages\n",
    "report.resume_report_pages()"
   ]
  },
  {
   "cell_type": "code",
   "execution_count": 8,
   "metadata": {},
   "outputs": [
    {
     "data": {
      "text/plain": [
       "{}"
      ]
     },
     "execution_count": 8,
     "metadata": {},
     "output_type": "execute_result"
    }
   ],
   "source": [
    "# Resume bookmarks\n",
    "report.resume_report_bookmarks()"
   ]
  },
  {
   "cell_type": "code",
   "execution_count": 9,
   "metadata": {},
   "outputs": [
    {
     "data": {
      "text/html": [
       "<div>\n",
       "<style scoped>\n",
       "    .dataframe tbody tr th:only-of-type {\n",
       "        vertical-align: middle;\n",
       "    }\n",
       "\n",
       "    .dataframe tbody tr th {\n",
       "        vertical-align: top;\n",
       "    }\n",
       "\n",
       "    .dataframe thead th {\n",
       "        text-align: right;\n",
       "    }\n",
       "</style>\n",
       "<table border=\"1\" class=\"dataframe\">\n",
       "  <thead>\n",
       "    <tr style=\"text-align: right;\">\n",
       "      <th></th>\n",
       "      <th>visualid</th>\n",
       "      <th>type</th>\n",
       "      <th>displaymode</th>\n",
       "      <th>position</th>\n",
       "      <th>size</th>\n",
       "      <th>title</th>\n",
       "      <th>subtitle</th>\n",
       "      <th>fields</th>\n",
       "      <th>groupname</th>\n",
       "      <th>groupid</th>\n",
       "      <th>pageid</th>\n",
       "    </tr>\n",
       "    <tr>\n",
       "      <th>pagename</th>\n",
       "      <th></th>\n",
       "      <th></th>\n",
       "      <th></th>\n",
       "      <th></th>\n",
       "      <th></th>\n",
       "      <th></th>\n",
       "      <th></th>\n",
       "      <th></th>\n",
       "      <th></th>\n",
       "      <th></th>\n",
       "      <th></th>\n",
       "    </tr>\n",
       "  </thead>\n",
       "  <tbody>\n",
       "    <tr>\n",
       "      <th>Cover</th>\n",
       "      <td>ba11b203b4ce6a5c7490</td>\n",
       "      <td>textbox</td>\n",
       "      <td>show</td>\n",
       "      <td>{'x': 110, 'y': 56}</td>\n",
       "      <td>{'width': 318, 'height': 56}</td>\n",
       "      <td></td>\n",
       "      <td></td>\n",
       "      <td>{}</td>\n",
       "      <td></td>\n",
       "      <td></td>\n",
       "      <td>ReportSection</td>\n",
       "    </tr>\n",
       "    <tr>\n",
       "      <th>Cover</th>\n",
       "      <td>dfb0ef76dbaad8215b35</td>\n",
       "      <td>shape</td>\n",
       "      <td>show</td>\n",
       "      <td>{'x': 110, 'y': 97}</td>\n",
       "      <td>{'width': 357, 'height': 14}</td>\n",
       "      <td></td>\n",
       "      <td></td>\n",
       "      <td>{}</td>\n",
       "      <td></td>\n",
       "      <td></td>\n",
       "      <td>ReportSection</td>\n",
       "    </tr>\n",
       "    <tr>\n",
       "      <th>Cover</th>\n",
       "      <td>86673bea6b52652fd0e8</td>\n",
       "      <td>image</td>\n",
       "      <td>show</td>\n",
       "      <td>{'x': 549, 'y': 126}</td>\n",
       "      <td>{'width': 180, 'height': 246}</td>\n",
       "      <td></td>\n",
       "      <td></td>\n",
       "      <td>{}</td>\n",
       "      <td></td>\n",
       "      <td></td>\n",
       "      <td>ReportSection</td>\n",
       "    </tr>\n",
       "    <tr>\n",
       "      <th>Sales Reseller</th>\n",
       "      <td>1c510b92f9664aa06f71</td>\n",
       "      <td>lineStackedColumnComboChart</td>\n",
       "      <td>show</td>\n",
       "      <td>{'x': 109, 'y': 191}</td>\n",
       "      <td>{'width': 530, 'height': 336}</td>\n",
       "      <td>Sales by Country and Business Type (Abs)</td>\n",
       "      <td></td>\n",
       "      <td>{'Category': ['Reseller.Country-Region'], 'Y':...</td>\n",
       "      <td></td>\n",
       "      <td></td>\n",
       "      <td>ReportSectione5a5d9f92de0fef7e45e</td>\n",
       "    </tr>\n",
       "    <tr>\n",
       "      <th>Sales Reseller</th>\n",
       "      <td>74dc7d85aa39bf8a5880</td>\n",
       "      <td>textbox</td>\n",
       "      <td>show</td>\n",
       "      <td>{'x': 101, 'y': 93}</td>\n",
       "      <td>{'width': 249, 'height': 48}</td>\n",
       "      <td></td>\n",
       "      <td></td>\n",
       "      <td>{}</td>\n",
       "      <td></td>\n",
       "      <td></td>\n",
       "      <td>ReportSectione5a5d9f92de0fef7e45e</td>\n",
       "    </tr>\n",
       "    <tr>\n",
       "      <th>Sales Reseller</th>\n",
       "      <td>2ea41ed9ed62c60aab33</td>\n",
       "      <td>hundredPercentStackedColumnChart</td>\n",
       "      <td>show</td>\n",
       "      <td>{'x': 659, 'y': 191}</td>\n",
       "      <td>{'width': 530, 'height': 336}</td>\n",
       "      <td>Sales by Country and Business Type (%)</td>\n",
       "      <td></td>\n",
       "      <td>{'Category': ['Reseller.Country-Region'], 'Y':...</td>\n",
       "      <td></td>\n",
       "      <td></td>\n",
       "      <td>ReportSectione5a5d9f92de0fef7e45e</td>\n",
       "    </tr>\n",
       "  </tbody>\n",
       "</table>\n",
       "</div>"
      ],
      "text/plain": [
       "                            visualid                              type  \\\n",
       "pagename                                                                 \n",
       "Cover           ba11b203b4ce6a5c7490                           textbox   \n",
       "Cover           dfb0ef76dbaad8215b35                             shape   \n",
       "Cover           86673bea6b52652fd0e8                             image   \n",
       "Sales Reseller  1c510b92f9664aa06f71       lineStackedColumnComboChart   \n",
       "Sales Reseller  74dc7d85aa39bf8a5880                           textbox   \n",
       "Sales Reseller  2ea41ed9ed62c60aab33  hundredPercentStackedColumnChart   \n",
       "\n",
       "               displaymode              position  \\\n",
       "pagename                                           \n",
       "Cover                 show   {'x': 110, 'y': 56}   \n",
       "Cover                 show   {'x': 110, 'y': 97}   \n",
       "Cover                 show  {'x': 549, 'y': 126}   \n",
       "Sales Reseller        show  {'x': 109, 'y': 191}   \n",
       "Sales Reseller        show   {'x': 101, 'y': 93}   \n",
       "Sales Reseller        show  {'x': 659, 'y': 191}   \n",
       "\n",
       "                                         size  \\\n",
       "pagename                                        \n",
       "Cover            {'width': 318, 'height': 56}   \n",
       "Cover            {'width': 357, 'height': 14}   \n",
       "Cover           {'width': 180, 'height': 246}   \n",
       "Sales Reseller  {'width': 530, 'height': 336}   \n",
       "Sales Reseller   {'width': 249, 'height': 48}   \n",
       "Sales Reseller  {'width': 530, 'height': 336}   \n",
       "\n",
       "                                                   title subtitle  \\\n",
       "pagename                                                            \n",
       "Cover                                                               \n",
       "Cover                                                               \n",
       "Cover                                                               \n",
       "Sales Reseller  Sales by Country and Business Type (Abs)            \n",
       "Sales Reseller                                                      \n",
       "Sales Reseller    Sales by Country and Business Type (%)            \n",
       "\n",
       "                                                           fields groupname  \\\n",
       "pagename                                                                      \n",
       "Cover                                                          {}             \n",
       "Cover                                                          {}             \n",
       "Cover                                                          {}             \n",
       "Sales Reseller  {'Category': ['Reseller.Country-Region'], 'Y':...             \n",
       "Sales Reseller                                                 {}             \n",
       "Sales Reseller  {'Category': ['Reseller.Country-Region'], 'Y':...             \n",
       "\n",
       "               groupid                             pageid  \n",
       "pagename                                                   \n",
       "Cover                                       ReportSection  \n",
       "Cover                                       ReportSection  \n",
       "Cover                                       ReportSection  \n",
       "Sales Reseller          ReportSectione5a5d9f92de0fef7e45e  \n",
       "Sales Reseller          ReportSectione5a5d9f92de0fef7e45e  \n",
       "Sales Reseller          ReportSectione5a5d9f92de0fef7e45e  "
      ]
     },
     "execution_count": 9,
     "metadata": {},
     "output_type": "execute_result"
    }
   ],
   "source": [
    "# Resume visuals\n",
    "report.resume_report_visuals()"
   ]
  },
  {
   "cell_type": "markdown",
   "metadata": {},
   "source": [
    "3. Create **groups of bookmarks** with desired configurations"
   ]
  },
  {
   "cell_type": "code",
   "execution_count": 10,
   "metadata": {},
   "outputs": [
    {
     "name": "stdout",
     "output_type": "stream",
     "text": [
      "('Bookmarkf56b3a1c62652c00d0a8', {'displayName': 'Buttons A and B', 'name': 'Bookmarkf56b3a1c62652c00d0a8', 'children': [{'displayName': 'Button A', 'name': 'Bookmark22ba9eb28eb82fd87c97', 'explorationState': {'version': '1.3', 'activeSection': 'ReportSection', 'sections': {'ReportSection': {'visualContainers': {'86673bea6b52652fd0e8': {'singleVisual': {'display': {'mode': 'show'}}}, 'ba11b203b4ce6a5c7490': {'singleVisual': {'display': {'mode': 'hidden'}}}}}}}, 'options': {'targetVisualNames': ['86673bea6b52652fd0e8', 'ba11b203b4ce6a5c7490'], 'suppressData': True, 'suppressActiveSection': True, 'applyOnlyToTargetVisuals': True}}, {'displayName': 'Button B', 'name': 'Bookmark36f7e8a46babaec0fbfd', 'explorationState': {'version': '1.3', 'activeSection': 'ReportSection', 'sections': {'ReportSection': {'visualContainers': {'86673bea6b52652fd0e8': {'singleVisual': {'display': {'mode': 'show'}}}, 'ba11b203b4ce6a5c7490': {'singleVisual': {'display': {'mode': 'hidden'}}}}}}}, 'options': {'targetVisualNames': ['86673bea6b52652fd0e8', 'ba11b203b4ce6a5c7490'], 'suppressData': True, 'suppressActiveSection': True, 'applyOnlyToTargetVisuals': True}}]})\n"
     ]
    }
   ],
   "source": [
    "# Configuration\n",
    "button_group = {\n",
    "    'Button A':{\n",
    "        ppr.bookmarks.SHOW:['86673bea6b52652fd0e8'],\n",
    "        ppr.bookmarks.HIDE:['ba11b203b4ce6a5c7490']\n",
    "    },\n",
    "    'Button B':{\n",
    "        ppr.bookmarks.HIDE:['ba11b203b4ce6a5c7490'],\n",
    "        ppr.bookmarks.SHOW:['86673bea6b52652fd0e8']\n",
    "    }\n",
    "}\n",
    "# Creation\n",
    "bookmark_group = report.create_group_of_bookmarks('Buttons A and B', book_group_config_dict=button_group)\n",
    "\n",
    "print(bookmark_group) # All ppr creation are a tuple of its id and dict."
   ]
  },
  {
   "cell_type": "markdown",
   "metadata": {},
   "source": [
    "4. **Create bookmarks navigators** for groups of bookmarks"
   ]
  },
  {
   "cell_type": "code",
   "execution_count": 11,
   "metadata": {},
   "outputs": [
    {
     "name": "stdout",
     "output_type": "stream",
     "text": [
      "('3870d9d6b072306bb279', {'x': 0, 'y': 0, 'z': 3000, 'width': 100, 'height': 50, 'config': '{\"name\": \"\", \"layouts\": [{\"id\": 0, \"position\": {\"x\": 0, \"y\": 0, \"z\": 3000, \"width\": 100, \"height\": 50, \"tabOrder\": 11000}}], \"singleVisual\": {\"visualType\": \"bookmarkNavigator\", \"drillFilterOtherVisuals\": false, \"objects\": {\"bookmarks\": [{\"properties\": {\"bookmarkGroup\": {\"expr\": {\"Literal\": {\"Value\": \"\\'Bookmarkf56b3a1c62652c00d0a8\\'\"}}}}}]}}}', 'filters': '[]', 'tabOrder': 11000})\n"
     ]
    }
   ],
   "source": [
    "# For the last bookmark group created, place it in a bookmark browser in the report\n",
    "bookmark_slicer = report.create_bookmark_slicer(ppr_bookmark_or_group=bookmark_group)\n",
    "\n",
    "print(bookmark_slicer)"
   ]
  },
  {
   "cell_type": "markdown",
   "metadata": {},
   "source": [
    "5. **Insert** groups of bookmarks and its navigator in pages"
   ]
  },
  {
   "cell_type": "code",
   "execution_count": 12,
   "metadata": {},
   "outputs": [],
   "source": [
    "# To reflect in the report, it is necessary to insert the creations in the layout dict through the insert methods\n",
    "report.insert_bookmark_in_page(ppr_bookmark=bookmark_group)\n",
    "report.insert_visual_in_page(page_name='Sales Reseller', ppr_visual=bookmark_slicer)"
   ]
  },
  {
   "cell_type": "markdown",
   "metadata": {},
   "source": [
    "6. Duplicate a page"
   ]
  },
  {
   "cell_type": "code",
   "execution_count": 13,
   "metadata": {},
   "outputs": [],
   "source": [
    "# Okay, this isn't that important, but we can duplicate pages over here too\n",
    "report.create_duplicate_page('Cover')"
   ]
  },
  {
   "cell_type": "markdown",
   "metadata": {},
   "source": [
    "7. Save changes **as a new report**"
   ]
  },
  {
   "cell_type": "code",
   "execution_count": 14,
   "metadata": {},
   "outputs": [
    {
     "data": {
      "text/plain": [
       "'Sample Report with changes.pbix created in folder'"
      ]
     },
     "execution_count": 14,
     "metadata": {},
     "output_type": "execute_result"
    }
   ],
   "source": [
    "# After this, we can save the changes in a new file\n",
    "report.save_report(replace_original=False, suffix='with changes')"
   ]
  }
 ],
 "metadata": {
  "kernelspec": {
   "display_name": "Python 3",
   "language": "python",
   "name": "python3"
  },
  "language_info": {
   "codemirror_mode": {
    "name": "ipython",
    "version": 3
   },
   "file_extension": ".py",
   "mimetype": "text/x-python",
   "name": "python",
   "nbconvert_exporter": "python",
   "pygments_lexer": "ipython3",
   "version": "3.11.3"
  },
  "orig_nbformat": 4
 },
 "nbformat": 4,
 "nbformat_minor": 2
}
